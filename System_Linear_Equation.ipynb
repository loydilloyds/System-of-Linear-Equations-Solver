{
 "cells": [
  {
   "cell_type": "code",
   "execution_count": 3,
   "metadata": {},
   "outputs": [
    {
     "data": {
      "image/png": "[encoded data removed]",
      "text/latex": [
       "$\\displaystyle \\left( \\left[\\begin{matrix}1 & 2\\\\5 & 6\\\\9 & 10\\\\13 & 14\\end{matrix}\\right], \\  \\left[\\begin{matrix}1\\\\2\\\\3\\\\4\\end{matrix}\\right]\\right)$"
      ],
      "text/plain": [
       "⎛⎡1   2 ⎤  ⎡1⎤⎞\n",
       "⎜⎢      ⎥  ⎢ ⎥⎟\n",
       "⎜⎢5   6 ⎥  ⎢2⎥⎟\n",
       "⎜⎢      ⎥, ⎢ ⎥⎟\n",
       "⎜⎢9   10⎥  ⎢3⎥⎟\n",
       "⎜⎢      ⎥  ⎢ ⎥⎟\n",
       "⎝⎣13  14⎦  ⎣4⎦⎠"
      ]
     },
     "metadata": {},
     "output_type": "display_data"
    },
    {
     "data": {
      "image/png": "[encoded data removed]",
      "text/latex": [
       "$\\displaystyle \\left\\{\\left( - \\frac{1}{2}, \\  \\frac{3}{4}, \\  a_{2}, \\  a_{3}\\right)\\right\\}$"
      ],
      "text/plain": [
       "{(-1/2, 3/4, a₂, a₃)}"
      ]
     },
     "metadata": {},
     "output_type": "display_data"
    }
   ],
   "source": [
    "from sympy.interactive import printing\n",
    "printing.init_printing(use_latex=True)\n",
    "from IPython.display import display\n",
    "from sympy import symbols, Matrix, linsolve\n",
    "\n",
    "\n",
    "class SysMatrix:\n",
    "    A = []\n",
    "    b = []\n",
    "    matRow = []\n",
    "\n",
    "    def __init__(self, rows, cols, coeffs, const):\n",
    "        self.rows = rows\n",
    "        self.cols = cols\n",
    "\n",
    "        for i in range(len(coeffs)):\n",
    "            i += 1\n",
    "            SysMatrix.matRow.append(coeffs[i - 1])\n",
    "\n",
    "            if i % cols == 0:\n",
    "                SysMatrix.A.append(SysMatrix.matRow)\n",
    "                SysMatrix.matRow = []\n",
    "\n",
    "        for j in const:\n",
    "            SysMatrix.b.append(j)\n",
    "\n",
    "        self.system = (Matrix(SysMatrix.A), Matrix([[item] for item in SysMatrix.b]))\n",
    "\n",
    "        self.symbol = [symbols('x' + str(k)) for k in range(cols)]\n",
    "\n",
    "    def displayMatrix(self):\n",
    "        \n",
    "        display(self.system)\n",
    "    \n",
    "    def solveSystem(self):\n",
    "        solution_set = linsolve(self.system, symbols(f'a:{self.rows}'))\n",
    "        return solution_set\n",
    "\n",
    "def main():\n",
    "\n",
    "    row = 4\n",
    "    col = 2\n",
    "    coeffs = [\n",
    "                1, 2,\n",
    "                5, 6,\n",
    "                9, 10,\n",
    "                13, 14\n",
    "             ]\n",
    "    const = [1, 2, 3, 4]\n",
    "\n",
    "    mat1 = SysMatrix(row, col, coeffs, const)\n",
    "    mat1.displayMatrix()\n",
    "    display(mat1.solveSystem())\n",
    "\n",
    "\n",
    "if __name__ == \"__main__\":\n",
    "    main()\n"
   ]
  }
 ],
 "metadata": {
  "kernelspec": {
   "display_name": "Python 3",
   "language": "python",
   "name": "python3"
  },
  "language_info": {
   "codemirror_mode": {
    "name": "ipython",
    "version": 3
   },
   "file_extension": ".py",
   "mimetype": "text/x-python",
   "name": "python",
   "nbconvert_exporter": "python",
   "pygments_lexer": "ipython3",
   "version": "3.11.3"
  }
 },
 "nbformat": 4,
 "nbformat_minor": 2
}
