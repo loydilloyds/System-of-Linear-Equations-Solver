{
 "cells": [
  {
   "cell_type": "code",
   "execution_count": 101,
   "metadata": {},
   "outputs": [
    {
     "data": {
      "image/png": "[encoded data removed]",
      "text/latex": [
       "$\\displaystyle \\left[ 1, \\  2, \\  3, \\  4\\right]$"
      ],
      "text/plain": [
       "[1, 2, 3, 4]"
      ]
     },
     "metadata": {},
     "output_type": "display_data"
    },
    {
     "data": {
      "image/png": "[encoded data removed]",
      "text/latex": [
       "$\\displaystyle \\left[ \\left[ 1, \\  2, \\  3\\right], \\  \\left[ 4, \\  5, \\  6\\right], \\  \\left[ 7, \\  8, \\  9\\right], \\  \\left[ 10, \\  11, \\  12\\right]\\right]$"
      ],
      "text/plain": [
       "[[1, 2, 3], [4, 5, 6], [7, 8, 9], [10, 11, 12]]"
      ]
     },
     "metadata": {},
     "output_type": "display_data"
    },
    {
     "data": {
      "image/png": "[encoded data removed]",
      "text/latex": [
       "$\\displaystyle \\left( \\left[\\begin{matrix}1 & 2 & 3\\\\4 & 5 & 6\\\\7 & 8 & 9\\\\10 & 11 & 12\\end{matrix}\\right], \\  \\left[\\begin{matrix}1\\\\2\\\\3\\\\4\\end{matrix}\\right]\\right)$"
      ],
      "text/plain": [
       "⎛⎡1   2   3 ⎤  ⎡1⎤⎞\n",
       "⎜⎢          ⎥  ⎢ ⎥⎟\n",
       "⎜⎢4   5   6 ⎥  ⎢2⎥⎟\n",
       "⎜⎢          ⎥, ⎢ ⎥⎟\n",
       "⎜⎢7   8   9 ⎥  ⎢3⎥⎟\n",
       "⎜⎢          ⎥  ⎢ ⎥⎟\n",
       "⎝⎣10  11  12⎦  ⎣4⎦⎠"
      ]
     },
     "metadata": {},
     "output_type": "display_data"
    },
    {
     "name": "stdout",
     "output_type": "stream",
     "text": [
      "Solution Set:\n",
      "a0 = a2 - 1/3\n",
      "a1 = 2/3 - 2*a2\n",
      "a2 = free variable\n"
     ]
    }
   ],
   "source": [
    "from sympy.interactive import printing\n",
    "printing.init_printing(use_latex=True)\n",
    "from IPython.display import display\n",
    "from sympy import symbols, Matrix, linsolve\n",
    "\n",
    "class SysMatrix:\n",
    "    A = []\n",
    "    b = []\n",
    "\n",
    "    def __init__(self, rows, cols, coeffs, const):\n",
    "        self.rows = rows\n",
    "        self.cols = cols\n",
    "\n",
    "        for item in coeffs:\n",
    "            SysMatrix.A.append(item)\n",
    "\n",
    "        for j in const:\n",
    "            SysMatrix.b.append(j)\n",
    "\n",
    "        self.system = (Matrix(SysMatrix.A), Matrix([[item] for item in SysMatrix.b]))\n",
    "\n",
    "    def displayMatrix(self):\n",
    "        display(self.system)\n",
    "    \n",
    "    def solveSystem(self):\n",
    "        self.symbols = symbols(f'a:{self.cols}')\n",
    "        solution_set = linsolve(self.system, self.symbols)\n",
    "        return solution_set\n",
    "\n",
    "    def displaySolution(self):\n",
    "        self.solution_set = self.solveSystem()\n",
    "        self.solution_elem = [item[index] for index in range(self.cols) for item in self.solution_set]\n",
    "\n",
    "        print(\"Solution Set:\")\n",
    "        for element, var in zip(self.solution_elem, self.symbols):\n",
    "            if var == element:\n",
    "                element = \"free variable\"\n",
    "\n",
    "            print(f'{var} = {element}')\n",
    "    \n",
    "\n",
    "def main():\n",
    "\n",
    "    coeffList = [[1, 2, 3], [4, 5, 6], [7, 8, 9], [10, 11, 12]]\n",
    "    constList = [1, 2, 3, 4]\n",
    "\n",
    "    row = int(input(\"Enter number of rows: \"))\n",
    "    col = int(input(\"Enter number of columns: \"))\n",
    "\n",
    "    for i in range(row):\n",
    "        c = input(\"Enter the coefficients separated by a space: \")\n",
    "        coeffs = [int(item) if item != \" \" else item = 0 for item in c.split()]\n",
    "        coeffList.append(coeffs[:])\n",
    "        const = int(input(\"Enter constant: \"))\n",
    "        constList.append(const) \n",
    "    \n",
    "    display(constList)\n",
    "    display(coeffList)\n",
    "\n",
    "    mtr = SysMatrix(row, col, coeffList, constList)\n",
    "    mtr.displayMatrix()\n",
    "    mtr.displaySolution()\n",
    "\n",
    "if __name__ == \"__main__\":\n",
    "    main()\n"
   ]
  },
  {
   "cell_type": "code",
   "execution_count": 143,
   "metadata": {},
   "outputs": [
    {
     "data": {
      "text/plain": [
       "[[Fraction(2, 3)], [Fraction(9, 13)]]"
      ]
     },
     "metadata": {},
     "output_type": "display_data"
    },
    {
     "data": {
      "text/plain": [
       "[[Fraction(4, 3), Fraction(4, 1), Fraction(7, 18)],\n",
       " [Fraction(-5, 6), Fraction(7, 8), Fraction(10, 1)]]"
      ]
     },
     "metadata": {},
     "output_type": "display_data"
    },
    {
     "data": {
      "image/png": "[encoded data removed]",
      "text/latex": [
       "$\\displaystyle \\left( \\left[\\begin{matrix}\\frac{4}{3} & 4 & \\frac{7}{18}\\\\- \\frac{5}{6} & \\frac{7}{8} & 10\\end{matrix}\\right], \\  \\left[\\begin{matrix}\\frac{2}{3}\\\\\\frac{9}{13}\\end{matrix}\\right]\\right)$"
      ],
      "text/plain": [
       "⎛⎡4/3    4   7/18⎤  ⎡2/3 ⎤⎞\n",
       "⎜⎢               ⎥, ⎢    ⎥⎟\n",
       "⎝⎣-5/6  7/8   10 ⎦  ⎣9/13⎦⎠"
      ]
     },
     "metadata": {},
     "output_type": "display_data"
    },
    {
     "name": "stdout",
     "output_type": "stream",
     "text": [
      "Solution Set:\n",
      "a0 = 5711*a2/648 - 341/702\n",
      "a1 = 346/1053 - 1475*a2/486\n",
      "a2 = free variable\n"
     ]
    }
   ],
   "source": [
    "from sympy.interactive import printing\n",
    "printing.init_printing(use_latex=True)\n",
    "from IPython.display import display\n",
    "from sympy import symbols, Matrix, linsolve\n",
    "from fractions import Fraction\n",
    "\n",
    "class SysMatrix:\n",
    "    A = []\n",
    "    b = []\n",
    "\n",
    "    def __init__(self, rows, cols, coeffs, const):\n",
    "        self.rows = rows\n",
    "        self.cols = cols\n",
    "\n",
    "        for item in coeffs:\n",
    "            SysMatrix.A.append(item)\n",
    "\n",
    "        for j in const:\n",
    "            SysMatrix.b.append(j)\n",
    "\n",
    "        self.system = (Matrix(SysMatrix.A), Matrix(SysMatrix.b))\n",
    "\n",
    "    def displayMatrix(self):\n",
    "        display(self.system)\n",
    "\n",
    "    def displaySolution(self):\n",
    "        self.symbols = symbols(f'a:{self.cols}')\n",
    "        self.solution_set = linsolve(self.system, self.symbols)\n",
    "        self.solution_elem = [item[index] for index in range(self.cols) for item in self.solution_set]\n",
    "\n",
    "        print(\"Solution Set:\")\n",
    "        for element, var in zip(self.solution_elem, self.symbols):\n",
    "            if var == element:\n",
    "                element = \"free variable\"\n",
    "\n",
    "            print(f'{var} = {element}')\n",
    "    \n",
    "\n",
    "def main():\n",
    "\n",
    "    coeffList = []\n",
    "    constList = []\n",
    "\n",
    "    row = int(input(\"Enter number of rows: \"))\n",
    "    col = int(input(\"Enter number of columns: \"))\n",
    "\n",
    "    for i in range(row):\n",
    "        c = input(\"Enter the coefficients separated by a space: \")\n",
    "        coeffs = [Fraction(item) for item in c.split()]\n",
    "        coeffList.append(coeffs[:])\n",
    "        const = Fraction(input(\"Enter constant: \"))\n",
    "        constList.append([const]) \n",
    "    \n",
    "    display(constList)\n",
    "    display(coeffList)\n",
    "\n",
    "    mtr = SysMatrix(row, col, coeffList, constList)\n",
    "    mtr.displayMatrix()\n",
    "    mtr.displaySolution()\n",
    "\n",
    "if __name__ == \"__main__\":\n",
    "    main()\n"
   ]
  }
 ],
 "metadata": {
  "kernelspec": {
   "display_name": "Python 3",
   "language": "python",
   "name": "python3"
  },
  "language_info": {
   "codemirror_mode": {
    "name": "ipython",
    "version": 3
   },
   "file_extension": ".py",
   "mimetype": "text/x-python",
   "name": "python",
   "nbconvert_exporter": "python",
   "pygments_lexer": "ipython3",
   "version": "3.11.3"
  }
 },
 "nbformat": 4,
 "nbformat_minor": 2
}
