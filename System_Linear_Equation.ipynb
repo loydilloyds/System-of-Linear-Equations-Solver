{
 "cells": [
  {
   "cell_type": "code",
   "execution_count": 39,
   "metadata": {},
   "outputs": [
    {
     "data": {
      "image/png": "[encoded data removed]",
      "text/latex": [
       "$\\displaystyle \\left[ 1, \\  2, \\  3, \\  4\\right]$"
      ],
      "text/plain": [
       "[1, 2, 3, 4]"
      ]
     },
     "metadata": {},
     "output_type": "display_data"
    },
    {
     "data": {
      "image/png": "[encoded data removed]",
      "text/latex": [
       "$\\displaystyle \\left[ \\left[ 1, \\  2, \\  3\\right], \\  \\left[ 4, \\  5, \\  6\\right], \\  \\left[ 7, \\  8, \\  9\\right], \\  \\left[ 10, \\  11, \\  12\\right]\\right]$"
      ],
      "text/plain": [
       "[[1, 2, 3], [4, 5, 6], [7, 8, 9], [10, 11, 12]]"
      ]
     },
     "metadata": {},
     "output_type": "display_data"
    },
    {
     "data": {
      "image/png": "[encoded data removed]",
      "text/latex": [
       "$\\displaystyle \\left( \\left[\\begin{matrix}1 & 2 & 3\\\\4 & 5 & 6\\\\7 & 8 & 9\\\\10 & 11 & 12\\end{matrix}\\right], \\  \\left[\\begin{matrix}1\\\\2\\\\3\\\\4\\end{matrix}\\right]\\right)$"
      ],
      "text/plain": [
       "⎛⎡1   2   3 ⎤  ⎡1⎤⎞\n",
       "⎜⎢          ⎥  ⎢ ⎥⎟\n",
       "⎜⎢4   5   6 ⎥  ⎢2⎥⎟\n",
       "⎜⎢          ⎥, ⎢ ⎥⎟\n",
       "⎜⎢7   8   9 ⎥  ⎢3⎥⎟\n",
       "⎜⎢          ⎥  ⎢ ⎥⎟\n",
       "⎝⎣10  11  12⎦  ⎣4⎦⎠"
      ]
     },
     "metadata": {},
     "output_type": "display_data"
    },
    {
     "data": {
      "image/png": "[encoded data removed]",
      "text/latex": [
       "$\\displaystyle \\left\\{\\left( a_{2} - \\frac{1}{3}, \\  \\frac{2}{3} - 2 a_{2}, \\  a_{2}, \\  a_{3}\\right)\\right\\}$"
      ],
      "text/plain": [
       "{(a₂ - 1/3, 2/3 - 2⋅a₂, a₂, a₃)}"
      ]
     },
     "metadata": {},
     "output_type": "display_data"
    }
   ],
   "source": [
    "from sympy.interactive import printing\n",
    "printing.init_printing(use_latex=True)\n",
    "from IPython.display import display\n",
    "from sympy import symbols, Matrix, linsolve\n",
    "\n",
    "class SysMatrix:\n",
    "    A = []\n",
    "    b = []\n",
    "\n",
    "    def __init__(self, rows, cols, coeffs, const):\n",
    "        self.rows = rows\n",
    "        self.cols = cols\n",
    "\n",
    "        for item in coeffs:\n",
    "            SysMatrix.A.append(item)\n",
    "\n",
    "        for j in const:\n",
    "            SysMatrix.b.append(j)\n",
    "\n",
    "        self.system = (Matrix(SysMatrix.A), Matrix([[item] for item in SysMatrix.b]))\n",
    "\n",
    "    def displayMatrix(self):\n",
    "        display(self.system)\n",
    "    \n",
    "    def solveSystem(self):\n",
    "        solution_set = linsolve(self.system, symbols(f'a:{self.rows}'))\n",
    "        return solution_set\n",
    "\n",
    "def main():\n",
    "\n",
    "    coeffList = []\n",
    "    constList = []\n",
    "\n",
    "    row = int(input(\"Enter number of rows: \"))\n",
    "    col = int(input(\"Enter number of columns: \"))\n",
    "\n",
    "    for i in range(row):\n",
    "        c = input(\"Enter the coefficients separated by a space: \")\n",
    "        coeffs = [int(item) for item in c.split()]\n",
    "        coeffList.append(coeffs[:])\n",
    "        const = int(input(\"Enter constant: \"))\n",
    "        constList.append(const) \n",
    "    \n",
    "    display(constList)\n",
    "    display(coeffList)\n",
    "\n",
    "    mtr = SysMatrix(row, col, coeffList, constList)\n",
    "    mtr.displayMatrix()\n",
    "    solnSet = mtr.solveSystem()\n",
    "    \n",
    "    display(solnSet)\n",
    "\n",
    "if __name__ == \"__main__\":\n",
    "    main()\n"
   ]
  },
  {
   "cell_type": "code",
   "execution_count": null,
   "metadata": {},
   "outputs": [],
   "source": []
  }
 ],
 "metadata": {
  "kernelspec": {
   "display_name": "Python 3",
   "language": "python",
   "name": "python3"
  },
  "language_info": {
   "codemirror_mode": {
    "name": "ipython",
    "version": 3
   },
   "file_extension": ".py",
   "mimetype": "text/x-python",
   "name": "python",
   "nbconvert_exporter": "python",
   "pygments_lexer": "ipython3",
   "version": "3.11.3"
  }
 },
 "nbformat": 4,
 "nbformat_minor": 2
}
